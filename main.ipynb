{
 "cells": [
  {
   "cell_type": "code",
   "execution_count": 1,
   "metadata": {},
   "outputs": [],
   "source": [
    "from SQL_DB import SQL_LOADER\n",
    "from NEO4J import NEO4J_LOADER\n",
    "\n",
    "sql = SQL_LOADER('movies')\n",
    "neo = NEO4J_LOADER('movies')"
   ]
  },
  {
   "cell_type": "code",
   "execution_count": null,
   "metadata": {},
   "outputs": [],
   "source": [
    "from Custom_LLM import groq_llm\n",
    "\n",
    "llm = groq_llm()\n",
    "\n",
    "def ask(question):\n",
    "    sql_all_data_prompt = sql.Check_bland_sqlDb(question)\n",
    "    sql_llm_prompt = sql.sql_llm_check(question)\n",
    "    neo4j_llm_prompt = neo.Neo4j_llm_check(question)\n",
    "    \n",
    "    data = llm.decide(sql_all_data_prompt=sql_all_data_prompt, sql_llm_prompt=sql_llm_prompt, neo4j_llm_prompt=neo4j_llm_prompt, question=question)\n",
    "    print(\"Answer: \")\n",
    "    print(data)\n",
    "\n",
    "data = ask(\"directors of 3rd oldest movie\")\n"
   ]
  },
  {
   "cell_type": "code",
   "execution_count": null,
   "metadata": {},
   "outputs": [],
   "source": []
  }
 ],
 "metadata": {
  "kernelspec": {
   "display_name": "Python 3",
   "language": "python",
   "name": "python3"
  },
  "language_info": {
   "codemirror_mode": {
    "name": "ipython",
    "version": 3
   },
   "file_extension": ".py",
   "mimetype": "text/x-python",
   "name": "python",
   "nbconvert_exporter": "python",
   "pygments_lexer": "ipython3",
   "version": "3.11.0"
  }
 },
 "nbformat": 4,
 "nbformat_minor": 2
}
