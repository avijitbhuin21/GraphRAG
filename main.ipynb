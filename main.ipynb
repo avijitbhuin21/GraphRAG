{
 "cells": [
  {
   "cell_type": "code",
   "execution_count": 1,
   "metadata": {},
   "outputs": [],
   "source": [
    "from IPython.display import clear_output\n",
    "%pip install langchain langchain-community langchain-groq langchain-experimental neo4j groq\n",
    "clear_output()"
   ]
  },
  {
   "cell_type": "code",
   "execution_count": 3,
   "metadata": {},
   "outputs": [],
   "source": [
    "from langchain_community.graphs import Neo4jGraph\n",
    "from langchain_groq import ChatGroq\n",
    "\n",
    "from dotenv import load_dotenv\n",
    "import os, re\n",
    "from neo4j import GraphDatabase\n",
    "import pandas as pd\n",
    "from groq import Groq\n",
    "\n",
    "load_dotenv()\n",
    "llm = ChatGroq(\n",
    "            temperature=0,\n",
    "            model='llama-3.1-70b-versatile',\n",
    "            api_key=os.environ.get('GROQ_API_KEY')\n",
    "        )\n",
    "def reset():\n",
    "    db = GraphDatabase.driver(uri=os.environ.get('NEO4J_URI'), auth=(os.environ.get('NEO4J_USERNAME'), os.environ.get('NEO4J_PASSWORD')))\n",
    "    with db.session(database='system') as session:\n",
    "        session.run(\"\"\"DROP DATABASE neo4j\"\"\")\n",
    "        session.run('''CREATE DATABASE neo4j''')\n",
    "    db.close()\n",
    "\n",
    "def extract_query(input_string):\n",
    "    pattern = r'```(.*?)```'\n",
    "\n",
    "    matches = re.findall(pattern, input_string, re.DOTALL)\n",
    "\n",
    "    final_text = ''\n",
    "    for match in matches:\n",
    "        final_text+=match.strip()\n",
    "\n",
    "    return final_text\n",
    "\n",
    "def get_schema(path):\n",
    "    \n",
    "    data = pd.read_csv(path)\n",
    "    schema_details = []\n",
    "    for column in data.columns:\n",
    "        dtype = data[column].dtype\n",
    "        non_null_count = data[column].notnull().sum()\n",
    "        null_count = data[column].isnull().sum()\n",
    "        is_nullable = null_count > 0\n",
    "        schema_details.append(f\"Column: {column}, Type: {dtype}, Nullable: {is_nullable}, Non-Null Count: {non_null_count}, Null Count: {null_count}\")\n",
    "    schema_string = \"\\n\".join(schema_details)\n",
    "    return 'path: '+ path +\", \"+ schema_string \n",
    "\n",
    "def create_query(path):\n",
    "    client = Groq()\n",
    "    schema = get_schema(path=path)\n",
    "    chat_completion = client.chat.completions.create(\n",
    "        messages=[\n",
    "                {\n",
    "                        \"role\":\"system\",\n",
    "                        \"content\":\"\"\"analyse the format given below and create a similer code for the given input.\n",
    "                                    schema: path: movies.csv, Column: movieId, Type: int64, Nullable: False, Non-Null Count: 8964, Null Count: 0\\nColumn: released, Type: object, Nullable: False, Non-Null Count: 8964, Null Count: 0\\nColumn: title, Type: object, Nullable: False, Non-Null Count: 8964, Null Count: 0\\nColumn: actors, Type: object, Nullable: False, Non-Null Count: 8964, Null Count: 0\\nColumn: director, Type: object, Nullable: False, Non-Null Count: 8964, Null Count: 0\\nColumn: genres, Type: object, Nullable: False, Non-Null Count: 8964, Null Count: 0\\nColumn: imdbRating, Type: float64, Nullable: True, Non-Null Count: 8929, Null Count: 35\n",
    "                                    sample neo4j code:\n",
    "                                    LOAD CSV WITH HEADERS FROM \n",
    "                                    'file:///movies.csv'\n",
    "                                    'path to csv file'\n",
    "                                    AS row\n",
    "                                    MERGE (m:Movie {id:row.movieId})\n",
    "                                    SET m.released = date(row.released),\n",
    "                                        m.title = row.title,\n",
    "                                        m.imdbRating = toFloat(row.imdbRating)\n",
    "                                    FOREACH (director in split(row.director, '|') | \n",
    "                                        MERGE (p:Person {name:trim(director)})\n",
    "                                        MERGE (p)-[:DIRECTED]->(m))\n",
    "                                    FOREACH (actor in split(row.actors, '|') | \n",
    "                                        MERGE (p:Person {name:trim(actor)})\n",
    "                                        MERGE (p)-[:ACTED_IN]->(m))\n",
    "                                    FOREACH (genre in split(row.genres, '|') | \n",
    "                                        MERGE (g:Genre {name:trim(genre)})\n",
    "                                        MERGE (m)-[:IN_GENRE]->(g))\n",
    "                                        \n",
    "                                        Return only the code and nothing else\"\"\"\n",
    "                },\n",
    "                {\n",
    "                    \"role\": \"user\",\n",
    "                    \"content\": f\"input: {schema}\",\n",
    "                }\n",
    "        ],\n",
    "        model=\"llama3-70b-8192\",\n",
    "    )\n",
    "    data =  chat_completion.choices[0].message.content\n",
    "    query = extract_query(data)\n",
    "    print(query)\n",
    "    return query\n",
    "\n",
    "graph = Neo4jGraph()"
   ]
  },
  {
   "cell_type": "code",
   "execution_count": 40,
   "metadata": {},
   "outputs": [],
   "source": [
    "comics = 'https://raw.githubusercontent.com/tomasonjo/blog-datasets/main/Marvel/comics.csv'\n",
    "stocks = 'https://raw.githubusercontent.com/tomasonjo/blog-datasets/main/stocks/stock_prices.csv'\n",
    "movies_small = 'https://raw.githubusercontent.com/tomasonjo/blog-datasets/main/movies/movies_small.csv'"
   ]
  },
  {
   "cell_type": "code",
   "execution_count": null,
   "metadata": {},
   "outputs": [],
   "source": [
    "\n",
    "graph.query(create_query('D:\\Programming\\Projects\\Modus_Proj\\movies.csv'))\n",
    "graph.refresh_schema()\n"
   ]
  },
  {
   "cell_type": "code",
   "execution_count": 4,
   "metadata": {},
   "outputs": [
    {
     "name": "stdout",
     "output_type": "stream",
     "text": [
      "Node properties:\n",
      "Movie {imdbRating: FLOAT, id: STRING, released: DATE, title: STRING}\n",
      "Person {name: STRING}\n",
      "Genre {name: STRING}\n",
      "Relationship properties:\n",
      "\n",
      "The relationships:\n",
      "(:Movie)-[:IN_GENRE]->(:Genre)\n",
      "(:Person)-[:DIRECTED]->(:Movie)\n",
      "(:Person)-[:ACTED_IN]->(:Movie)\n"
     ]
    }
   ],
   "source": [
    "print(graph.schema)"
   ]
  },
  {
   "cell_type": "code",
   "execution_count": 5,
   "metadata": {},
   "outputs": [
    {
     "name": "stdout",
     "output_type": "stream",
     "text": [
      "\n",
      "\n",
      "\u001b[1m> Entering new GraphCypherQAChain chain...\u001b[0m\n",
      "Generated Cypher:\n",
      "\u001b[32;1m\u001b[1;3mMATCH (m:Movie {title: \"Toy Story\"}) RETURN m.released\u001b[0m\n",
      "Full Context:\n",
      "\u001b[32;1m\u001b[1;3m[{'m.released': neo4j.time.Date(1995, 11, 22)}]\u001b[0m\n",
      "\n",
      "\u001b[1m> Finished chain.\u001b[0m\n"
     ]
    },
    {
     "data": {
      "text/plain": [
       "{'query': 'when was toy story released?',\n",
       " 'result': 'Toy Story was released on November 22, 1995.'}"
      ]
     },
     "execution_count": 5,
     "metadata": {},
     "output_type": "execute_result"
    }
   ],
   "source": [
    "from langchain.chains import GraphCypherQAChain\n",
    "\n",
    "chain = GraphCypherQAChain.from_llm(graph=graph, llm=llm, verbose=True)\n",
    "response = chain.invoke({\"query\": \"when was toy story released?\"})\n",
    "response"
   ]
  },
  {
   "cell_type": "code",
   "execution_count": 42,
   "metadata": {},
   "outputs": [],
   "source": [
    "reset()"
   ]
  }
 ],
 "metadata": {
  "kernelspec": {
   "display_name": "Python 3",
   "language": "python",
   "name": "python3"
  },
  "language_info": {
   "codemirror_mode": {
    "name": "ipython",
    "version": 3
   },
   "file_extension": ".py",
   "mimetype": "text/x-python",
   "name": "python",
   "nbconvert_exporter": "python",
   "pygments_lexer": "ipython3",
   "version": "3.11.0"
  }
 },
 "nbformat": 4,
 "nbformat_minor": 2
}
